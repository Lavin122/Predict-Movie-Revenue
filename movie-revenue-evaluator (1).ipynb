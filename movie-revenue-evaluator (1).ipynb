{
 "cells": [
  {
   "cell_type": "code",
   "execution_count": 1,
   "metadata": {},
   "outputs": [],
   "source": [
    "# **I. Explarotory data analysis**"
   ]
  },
  {
   "cell_type": "markdown",
   "metadata": {},
   "source": [
    "## General exploration\n",
    "\n",
    "\n",
    "\n"
   ]
  },
  {
   "cell_type": "markdown",
   "metadata": {
    "papermill": {
     "duration": 0.023466,
     "end_time": "2021-02-23T20:23:33.628954",
     "exception": false,
     "start_time": "2021-02-23T20:23:33.605488",
     "status": "completed"
    },
    "tags": []
   },
   "source": [
    "### Get the data"
   ]
  },
  {
   "cell_type": "markdown",
   "metadata": {
    "papermill": {
     "duration": 0.023457,
     "end_time": "2021-02-23T20:23:33.676334",
     "exception": false,
     "start_time": "2021-02-23T20:23:33.652877",
     "status": "completed"
    },
    "tags": []
   },
   "source": [
    "> Load the data we will for training and testing our model"
   ]
  },
  {
   "cell_type": "code",
   "execution_count": 1,
   "metadata": {
    "execution": {
     "iopub.execute_input": "2021-02-23T20:23:33.731277Z",
     "iopub.status.busy": "2021-02-23T20:23:33.730676Z",
     "iopub.status.idle": "2021-02-23T20:23:35.395016Z",
     "shell.execute_reply": "2021-02-23T20:23:35.393247Z"
    },
    "papermill": {
     "duration": 1.694618,
     "end_time": "2021-02-23T20:23:35.395269",
     "exception": false,
     "start_time": "2021-02-23T20:23:33.700651",
     "status": "completed"
    },
    "tags": []
   },
   "outputs": [],
   "source": [
    "import numpy as np\n",
    "import pandas as pd\n",
    "\n",
    "# Load training and test data using pandas\n",
    "train_data = pd.read_csv('/kaggle/input/tmdb-box-office-prediction/train.csv')\n",
    "test_data = pd.read_csv('/kaggle/input/tmdb-box-office-prediction/test.csv')"
   ]
  },
  {
   "cell_type": "markdown",
   "metadata": {
    "papermill": {
     "duration": 0.02346,
     "end_time": "2021-02-23T20:23:35.442941",
     "exception": false,
     "start_time": "2021-02-23T20:23:35.419481",
     "status": "completed"
    },
    "tags": []
   },
   "source": [
    "> Seems we do not have much data to go around, so we will need to engineer some"
   ]
  },
  {
   "cell_type": "code",
   "execution_count": 2,
   "metadata": {
    "execution": {
     "iopub.execute_input": "2021-02-23T20:23:35.497694Z",
     "iopub.status.busy": "2021-02-23T20:23:35.496883Z",
     "iopub.status.idle": "2021-02-23T20:23:35.501281Z",
     "shell.execute_reply": "2021-02-23T20:23:35.500825Z"
    },
    "papermill": {
     "duration": 0.034654,
     "end_time": "2021-02-23T20:23:35.501419",
     "exception": false,
     "start_time": "2021-02-23T20:23:35.466765",
     "status": "completed"
    },
    "tags": []
   },
   "outputs": [
    {
     "data": {
      "text/plain": [
       "((3000, 23), (4398, 22))"
      ]
     },
     "execution_count": 2,
     "metadata": {},
     "output_type": "execute_result"
    }
   ],
   "source": [
    "train_data.shape, test_data.shape"
   ]
  },
  {
   "cell_type": "markdown",
   "metadata": {
    "papermill": {
     "duration": 0.024958,
     "end_time": "2021-02-23T20:23:35.551252",
     "exception": false,
     "start_time": "2021-02-23T20:23:35.526294",
     "status": "completed"
    },
    "tags": []
   },
   "source": [
    "> Lets take a quick look at the data 🧐"
   ]
  },
  {
   "cell_type": "code",
   "execution_count": 3,
   "metadata": {
    "execution": {
     "iopub.execute_input": "2021-02-23T20:23:35.611184Z",
     "iopub.status.busy": "2021-02-23T20:23:35.610518Z",
     "iopub.status.idle": "2021-02-23T20:23:35.623344Z",
     "shell.execute_reply": "2021-02-23T20:23:35.623787Z"
    },
    "papermill": {
     "duration": 0.047964,
     "end_time": "2021-02-23T20:23:35.623974",
     "exception": false,
     "start_time": "2021-02-23T20:23:35.576010",
     "status": "completed"
    },
    "tags": []
   },
   "outputs": [
    {
     "data": {
      "text/plain": [
       "id                         int64\n",
       "belongs_to_collection     object\n",
       "budget                     int64\n",
       "genres                    object\n",
       "homepage                  object\n",
       "imdb_id                   object\n",
       "original_language         object\n",
       "original_title            object\n",
       "overview                  object\n",
       "popularity               float64\n",
       "poster_path               object\n",
       "production_companies      object\n",
       "production_countries      object\n",
       "release_date              object\n",
       "runtime                  float64\n",
       "spoken_languages          object\n",
       "status                    object\n",
       "tagline                   object\n",
       "title                     object\n",
       "Keywords                  object\n",
       "cast                      object\n",
       "crew                      object\n",
       "revenue                    int64\n",
       "dtype: object"
      ]
     },
     "execution_count": 3,
     "metadata": {},
     "output_type": "execute_result"
    }
   ],
   "source": [
    "train_data.dtypes"
   ]
  },
  {
   "cell_type": "code",
   "execution_count": 4,
   "metadata": {
    "execution": {
     "iopub.execute_input": "2021-02-23T20:23:35.677674Z",
     "iopub.status.busy": "2021-02-23T20:23:35.676773Z",
     "iopub.status.idle": "2021-02-23T20:23:35.710169Z",
     "shell.execute_reply": "2021-02-23T20:23:35.709643Z"
    },
    "papermill": {
     "duration": 0.061401,
     "end_time": "2021-02-23T20:23:35.710310",
     "exception": false,
     "start_time": "2021-02-23T20:23:35.648909",
     "status": "completed"
    },
    "tags": []
   },
   "outputs": [
    {
     "data": {
      "text/html": [
       "<div>\n",
       "<style scoped>\n",
       "    .dataframe tbody tr th:only-of-type {\n",
       "        vertical-align: middle;\n",
       "    }\n",
       "\n",
       "    .dataframe tbody tr th {\n",
       "        vertical-align: top;\n",
       "    }\n",
       "\n",
       "    .dataframe thead th {\n",
       "        text-align: right;\n",
       "    }\n",
       "</style>\n",
       "<table border=\"1\" class=\"dataframe\">\n",
       "  <thead>\n",
       "    <tr style=\"text-align: right;\">\n",
       "      <th></th>\n",
       "      <th>id</th>\n",
       "      <th>belongs_to_collection</th>\n",
       "      <th>budget</th>\n",
       "      <th>genres</th>\n",
       "      <th>homepage</th>\n",
       "      <th>imdb_id</th>\n",
       "      <th>original_language</th>\n",
       "      <th>original_title</th>\n",
       "      <th>overview</th>\n",
       "      <th>popularity</th>\n",
       "      <th>...</th>\n",
       "      <th>release_date</th>\n",
       "      <th>runtime</th>\n",
       "      <th>spoken_languages</th>\n",
       "      <th>status</th>\n",
       "      <th>tagline</th>\n",
       "      <th>title</th>\n",
       "      <th>Keywords</th>\n",
       "      <th>cast</th>\n",
       "      <th>crew</th>\n",
       "      <th>revenue</th>\n",
       "    </tr>\n",
       "  </thead>\n",
       "  <tbody>\n",
       "    <tr>\n",
       "      <th>0</th>\n",
       "      <td>1</td>\n",
       "      <td>[{'id': 313576, 'name': 'Hot Tub Time Machine ...</td>\n",
       "      <td>14000000</td>\n",
       "      <td>[{'id': 35, 'name': 'Comedy'}]</td>\n",
       "      <td>NaN</td>\n",
       "      <td>tt2637294</td>\n",
       "      <td>en</td>\n",
       "      <td>Hot Tub Time Machine 2</td>\n",
       "      <td>When Lou, who has become the \"father of the In...</td>\n",
       "      <td>6.575393</td>\n",
       "      <td>...</td>\n",
       "      <td>2/20/15</td>\n",
       "      <td>93.0</td>\n",
       "      <td>[{'iso_639_1': 'en', 'name': 'English'}]</td>\n",
       "      <td>Released</td>\n",
       "      <td>The Laws of Space and Time are About to be Vio...</td>\n",
       "      <td>Hot Tub Time Machine 2</td>\n",
       "      <td>[{'id': 4379, 'name': 'time travel'}, {'id': 9...</td>\n",
       "      <td>[{'cast_id': 4, 'character': 'Lou', 'credit_id...</td>\n",
       "      <td>[{'credit_id': '59ac067c92514107af02c8c8', 'de...</td>\n",
       "      <td>12314651</td>\n",
       "    </tr>\n",
       "    <tr>\n",
       "      <th>1</th>\n",
       "      <td>2</td>\n",
       "      <td>[{'id': 107674, 'name': 'The Princess Diaries ...</td>\n",
       "      <td>40000000</td>\n",
       "      <td>[{'id': 35, 'name': 'Comedy'}, {'id': 18, 'nam...</td>\n",
       "      <td>NaN</td>\n",
       "      <td>tt0368933</td>\n",
       "      <td>en</td>\n",
       "      <td>The Princess Diaries 2: Royal Engagement</td>\n",
       "      <td>Mia Thermopolis is now a college graduate and ...</td>\n",
       "      <td>8.248895</td>\n",
       "      <td>...</td>\n",
       "      <td>8/6/04</td>\n",
       "      <td>113.0</td>\n",
       "      <td>[{'iso_639_1': 'en', 'name': 'English'}]</td>\n",
       "      <td>Released</td>\n",
       "      <td>It can take a lifetime to find true love; she'...</td>\n",
       "      <td>The Princess Diaries 2: Royal Engagement</td>\n",
       "      <td>[{'id': 2505, 'name': 'coronation'}, {'id': 42...</td>\n",
       "      <td>[{'cast_id': 1, 'character': 'Mia Thermopolis'...</td>\n",
       "      <td>[{'credit_id': '52fe43fe9251416c7502563d', 'de...</td>\n",
       "      <td>95149435</td>\n",
       "    </tr>\n",
       "    <tr>\n",
       "      <th>2</th>\n",
       "      <td>3</td>\n",
       "      <td>NaN</td>\n",
       "      <td>3300000</td>\n",
       "      <td>[{'id': 18, 'name': 'Drama'}]</td>\n",
       "      <td>http://sonyclassics.com/whiplash/</td>\n",
       "      <td>tt2582802</td>\n",
       "      <td>en</td>\n",
       "      <td>Whiplash</td>\n",
       "      <td>Under the direction of a ruthless instructor, ...</td>\n",
       "      <td>64.299990</td>\n",
       "      <td>...</td>\n",
       "      <td>10/10/14</td>\n",
       "      <td>105.0</td>\n",
       "      <td>[{'iso_639_1': 'en', 'name': 'English'}]</td>\n",
       "      <td>Released</td>\n",
       "      <td>The road to greatness can take you to the edge.</td>\n",
       "      <td>Whiplash</td>\n",
       "      <td>[{'id': 1416, 'name': 'jazz'}, {'id': 1523, 'n...</td>\n",
       "      <td>[{'cast_id': 5, 'character': 'Andrew Neimann',...</td>\n",
       "      <td>[{'credit_id': '54d5356ec3a3683ba0000039', 'de...</td>\n",
       "      <td>13092000</td>\n",
       "    </tr>\n",
       "    <tr>\n",
       "      <th>3</th>\n",
       "      <td>4</td>\n",
       "      <td>NaN</td>\n",
       "      <td>1200000</td>\n",
       "      <td>[{'id': 53, 'name': 'Thriller'}, {'id': 18, 'n...</td>\n",
       "      <td>http://kahaanithefilm.com/</td>\n",
       "      <td>tt1821480</td>\n",
       "      <td>hi</td>\n",
       "      <td>Kahaani</td>\n",
       "      <td>Vidya Bagchi (Vidya Balan) arrives in Kolkata ...</td>\n",
       "      <td>3.174936</td>\n",
       "      <td>...</td>\n",
       "      <td>3/9/12</td>\n",
       "      <td>122.0</td>\n",
       "      <td>[{'iso_639_1': 'en', 'name': 'English'}, {'iso...</td>\n",
       "      <td>Released</td>\n",
       "      <td>NaN</td>\n",
       "      <td>Kahaani</td>\n",
       "      <td>[{'id': 10092, 'name': 'mystery'}, {'id': 1054...</td>\n",
       "      <td>[{'cast_id': 1, 'character': 'Vidya Bagchi', '...</td>\n",
       "      <td>[{'credit_id': '52fe48779251416c9108d6eb', 'de...</td>\n",
       "      <td>16000000</td>\n",
       "    </tr>\n",
       "    <tr>\n",
       "      <th>4</th>\n",
       "      <td>5</td>\n",
       "      <td>NaN</td>\n",
       "      <td>0</td>\n",
       "      <td>[{'id': 28, 'name': 'Action'}, {'id': 53, 'nam...</td>\n",
       "      <td>NaN</td>\n",
       "      <td>tt1380152</td>\n",
       "      <td>ko</td>\n",
       "      <td>마린보이</td>\n",
       "      <td>Marine Boy is the story of a former national s...</td>\n",
       "      <td>1.148070</td>\n",
       "      <td>...</td>\n",
       "      <td>2/5/09</td>\n",
       "      <td>118.0</td>\n",
       "      <td>[{'iso_639_1': 'ko', 'name': '한국어/조선말'}]</td>\n",
       "      <td>Released</td>\n",
       "      <td>NaN</td>\n",
       "      <td>Marine Boy</td>\n",
       "      <td>NaN</td>\n",
       "      <td>[{'cast_id': 3, 'character': 'Chun-soo', 'cred...</td>\n",
       "      <td>[{'credit_id': '52fe464b9251416c75073b43', 'de...</td>\n",
       "      <td>3923970</td>\n",
       "    </tr>\n",
       "  </tbody>\n",
       "</table>\n",
       "<p>5 rows × 23 columns</p>\n",
       "</div>"
      ],
      "text/plain": [
       "   id                              belongs_to_collection    budget  \\\n",
       "0   1  [{'id': 313576, 'name': 'Hot Tub Time Machine ...  14000000   \n",
       "1   2  [{'id': 107674, 'name': 'The Princess Diaries ...  40000000   \n",
       "2   3                                                NaN   3300000   \n",
       "3   4                                                NaN   1200000   \n",
       "4   5                                                NaN         0   \n",
       "\n",
       "                                              genres  \\\n",
       "0                     [{'id': 35, 'name': 'Comedy'}]   \n",
       "1  [{'id': 35, 'name': 'Comedy'}, {'id': 18, 'nam...   \n",
       "2                      [{'id': 18, 'name': 'Drama'}]   \n",
       "3  [{'id': 53, 'name': 'Thriller'}, {'id': 18, 'n...   \n",
       "4  [{'id': 28, 'name': 'Action'}, {'id': 53, 'nam...   \n",
       "\n",
       "                            homepage    imdb_id original_language  \\\n",
       "0                                NaN  tt2637294                en   \n",
       "1                                NaN  tt0368933                en   \n",
       "2  http://sonyclassics.com/whiplash/  tt2582802                en   \n",
       "3         http://kahaanithefilm.com/  tt1821480                hi   \n",
       "4                                NaN  tt1380152                ko   \n",
       "\n",
       "                             original_title  \\\n",
       "0                    Hot Tub Time Machine 2   \n",
       "1  The Princess Diaries 2: Royal Engagement   \n",
       "2                                  Whiplash   \n",
       "3                                   Kahaani   \n",
       "4                                      마린보이   \n",
       "\n",
       "                                            overview  popularity  ...  \\\n",
       "0  When Lou, who has become the \"father of the In...    6.575393  ...   \n",
       "1  Mia Thermopolis is now a college graduate and ...    8.248895  ...   \n",
       "2  Under the direction of a ruthless instructor, ...   64.299990  ...   \n",
       "3  Vidya Bagchi (Vidya Balan) arrives in Kolkata ...    3.174936  ...   \n",
       "4  Marine Boy is the story of a former national s...    1.148070  ...   \n",
       "\n",
       "  release_date runtime                                   spoken_languages  \\\n",
       "0      2/20/15    93.0           [{'iso_639_1': 'en', 'name': 'English'}]   \n",
       "1       8/6/04   113.0           [{'iso_639_1': 'en', 'name': 'English'}]   \n",
       "2     10/10/14   105.0           [{'iso_639_1': 'en', 'name': 'English'}]   \n",
       "3       3/9/12   122.0  [{'iso_639_1': 'en', 'name': 'English'}, {'iso...   \n",
       "4       2/5/09   118.0           [{'iso_639_1': 'ko', 'name': '한국어/조선말'}]   \n",
       "\n",
       "     status                                            tagline  \\\n",
       "0  Released  The Laws of Space and Time are About to be Vio...   \n",
       "1  Released  It can take a lifetime to find true love; she'...   \n",
       "2  Released    The road to greatness can take you to the edge.   \n",
       "3  Released                                                NaN   \n",
       "4  Released                                                NaN   \n",
       "\n",
       "                                      title  \\\n",
       "0                    Hot Tub Time Machine 2   \n",
       "1  The Princess Diaries 2: Royal Engagement   \n",
       "2                                  Whiplash   \n",
       "3                                   Kahaani   \n",
       "4                                Marine Boy   \n",
       "\n",
       "                                            Keywords  \\\n",
       "0  [{'id': 4379, 'name': 'time travel'}, {'id': 9...   \n",
       "1  [{'id': 2505, 'name': 'coronation'}, {'id': 42...   \n",
       "2  [{'id': 1416, 'name': 'jazz'}, {'id': 1523, 'n...   \n",
       "3  [{'id': 10092, 'name': 'mystery'}, {'id': 1054...   \n",
       "4                                                NaN   \n",
       "\n",
       "                                                cast  \\\n",
       "0  [{'cast_id': 4, 'character': 'Lou', 'credit_id...   \n",
       "1  [{'cast_id': 1, 'character': 'Mia Thermopolis'...   \n",
       "2  [{'cast_id': 5, 'character': 'Andrew Neimann',...   \n",
       "3  [{'cast_id': 1, 'character': 'Vidya Bagchi', '...   \n",
       "4  [{'cast_id': 3, 'character': 'Chun-soo', 'cred...   \n",
       "\n",
       "                                                crew   revenue  \n",
       "0  [{'credit_id': '59ac067c92514107af02c8c8', 'de...  12314651  \n",
       "1  [{'credit_id': '52fe43fe9251416c7502563d', 'de...  95149435  \n",
       "2  [{'credit_id': '54d5356ec3a3683ba0000039', 'de...  13092000  \n",
       "3  [{'credit_id': '52fe48779251416c9108d6eb', 'de...  16000000  \n",
       "4  [{'credit_id': '52fe464b9251416c75073b43', 'de...   3923970  \n",
       "\n",
       "[5 rows x 23 columns]"
      ]
     },
     "execution_count": 4,
     "metadata": {},
     "output_type": "execute_result"
    }
   ],
   "source": [
    "train_data.head()"
   ]
  },
  {
   "cell_type": "code",
   "execution_count": 5,
   "metadata": {
    "execution": {
     "iopub.execute_input": "2021-02-23T20:23:35.772126Z",
     "iopub.status.busy": "2021-02-23T20:23:35.771013Z",
     "iopub.status.idle": "2021-02-23T20:23:35.789007Z",
     "shell.execute_reply": "2021-02-23T20:23:35.789448Z"
    },
    "papermill": {
     "duration": 0.0534,
     "end_time": "2021-02-23T20:23:35.789651",
     "exception": false,
     "start_time": "2021-02-23T20:23:35.736251",
     "status": "completed"
    },
    "tags": []
   },
   "outputs": [
    {
     "name": "stdout",
     "output_type": "stream",
     "text": [
      "<class 'pandas.core.frame.DataFrame'>\n",
      "RangeIndex: 3000 entries, 0 to 2999\n",
      "Data columns (total 23 columns):\n",
      " #   Column                 Non-Null Count  Dtype  \n",
      "---  ------                 --------------  -----  \n",
      " 0   id                     3000 non-null   int64  \n",
      " 1   belongs_to_collection  604 non-null    object \n",
      " 2   budget                 3000 non-null   int64  \n",
      " 3   genres                 2993 non-null   object \n",
      " 4   homepage               946 non-null    object \n",
      " 5   imdb_id                3000 non-null   object \n",
      " 6   original_language      3000 non-null   object \n",
      " 7   original_title         3000 non-null   object \n",
      " 8   overview               2992 non-null   object \n",
      " 9   popularity             3000 non-null   float64\n",
      " 10  poster_path            2999 non-null   object \n",
      " 11  production_companies   2844 non-null   object \n",
      " 12  production_countries   2945 non-null   object \n",
      " 13  release_date           3000 non-null   object \n",
      " 14  runtime                2998 non-null   float64\n",
      " 15  spoken_languages       2980 non-null   object \n",
      " 16  status                 3000 non-null   object \n",
      " 17  tagline                2403 non-null   object \n",
      " 18  title                  3000 non-null   object \n",
      " 19  Keywords               2724 non-null   object \n",
      " 20  cast                   2987 non-null   object \n",
      " 21  crew                   2984 non-null   object \n",
      " 22  revenue                3000 non-null   int64  \n",
      "dtypes: float64(2), int64(3), object(18)\n",
      "memory usage: 539.2+ KB\n"
     ]
    }
   ],
   "source": [
    "train_data.info()"
   ]
  },
  {
   "cell_type": "code",
   "execution_count": 6,
   "metadata": {
    "execution": {
     "iopub.execute_input": "2021-02-23T20:23:35.844430Z",
     "iopub.status.busy": "2021-02-23T20:23:35.843870Z",
     "iopub.status.idle": "2021-02-23T20:23:35.869074Z",
     "shell.execute_reply": "2021-02-23T20:23:35.869472Z"
    },
    "papermill": {
     "duration": 0.053974,
     "end_time": "2021-02-23T20:23:35.869666",
     "exception": false,
     "start_time": "2021-02-23T20:23:35.815692",
     "status": "completed"
    },
    "tags": []
   },
   "outputs": [
    {
     "data": {
      "text/html": [
       "<div>\n",
       "<style scoped>\n",
       "    .dataframe tbody tr th:only-of-type {\n",
       "        vertical-align: middle;\n",
       "    }\n",
       "\n",
       "    .dataframe tbody tr th {\n",
       "        vertical-align: top;\n",
       "    }\n",
       "\n",
       "    .dataframe thead th {\n",
       "        text-align: right;\n",
       "    }\n",
       "</style>\n",
       "<table border=\"1\" class=\"dataframe\">\n",
       "  <thead>\n",
       "    <tr style=\"text-align: right;\">\n",
       "      <th></th>\n",
       "      <th>id</th>\n",
       "      <th>budget</th>\n",
       "      <th>popularity</th>\n",
       "      <th>runtime</th>\n",
       "      <th>revenue</th>\n",
       "    </tr>\n",
       "  </thead>\n",
       "  <tbody>\n",
       "    <tr>\n",
       "      <th>count</th>\n",
       "      <td>3000.000000</td>\n",
       "      <td>3.000000e+03</td>\n",
       "      <td>3000.000000</td>\n",
       "      <td>2998.000000</td>\n",
       "      <td>3.000000e+03</td>\n",
       "    </tr>\n",
       "    <tr>\n",
       "      <th>mean</th>\n",
       "      <td>1500.500000</td>\n",
       "      <td>2.253133e+07</td>\n",
       "      <td>8.463274</td>\n",
       "      <td>107.856571</td>\n",
       "      <td>6.672585e+07</td>\n",
       "    </tr>\n",
       "    <tr>\n",
       "      <th>std</th>\n",
       "      <td>866.169729</td>\n",
       "      <td>3.702609e+07</td>\n",
       "      <td>12.104000</td>\n",
       "      <td>22.086434</td>\n",
       "      <td>1.375323e+08</td>\n",
       "    </tr>\n",
       "    <tr>\n",
       "      <th>min</th>\n",
       "      <td>1.000000</td>\n",
       "      <td>0.000000e+00</td>\n",
       "      <td>0.000001</td>\n",
       "      <td>0.000000</td>\n",
       "      <td>1.000000e+00</td>\n",
       "    </tr>\n",
       "    <tr>\n",
       "      <th>25%</th>\n",
       "      <td>750.750000</td>\n",
       "      <td>0.000000e+00</td>\n",
       "      <td>4.018053</td>\n",
       "      <td>94.000000</td>\n",
       "      <td>2.379808e+06</td>\n",
       "    </tr>\n",
       "    <tr>\n",
       "      <th>50%</th>\n",
       "      <td>1500.500000</td>\n",
       "      <td>8.000000e+06</td>\n",
       "      <td>7.374861</td>\n",
       "      <td>104.000000</td>\n",
       "      <td>1.680707e+07</td>\n",
       "    </tr>\n",
       "    <tr>\n",
       "      <th>75%</th>\n",
       "      <td>2250.250000</td>\n",
       "      <td>2.900000e+07</td>\n",
       "      <td>10.890983</td>\n",
       "      <td>118.000000</td>\n",
       "      <td>6.891920e+07</td>\n",
       "    </tr>\n",
       "    <tr>\n",
       "      <th>max</th>\n",
       "      <td>3000.000000</td>\n",
       "      <td>3.800000e+08</td>\n",
       "      <td>294.337037</td>\n",
       "      <td>338.000000</td>\n",
       "      <td>1.519558e+09</td>\n",
       "    </tr>\n",
       "  </tbody>\n",
       "</table>\n",
       "</div>"
      ],
      "text/plain": [
       "                id        budget   popularity      runtime       revenue\n",
       "count  3000.000000  3.000000e+03  3000.000000  2998.000000  3.000000e+03\n",
       "mean   1500.500000  2.253133e+07     8.463274   107.856571  6.672585e+07\n",
       "std     866.169729  3.702609e+07    12.104000    22.086434  1.375323e+08\n",
       "min       1.000000  0.000000e+00     0.000001     0.000000  1.000000e+00\n",
       "25%     750.750000  0.000000e+00     4.018053    94.000000  2.379808e+06\n",
       "50%    1500.500000  8.000000e+06     7.374861   104.000000  1.680707e+07\n",
       "75%    2250.250000  2.900000e+07    10.890983   118.000000  6.891920e+07\n",
       "max    3000.000000  3.800000e+08   294.337037   338.000000  1.519558e+09"
      ]
     },
     "execution_count": 6,
     "metadata": {},
     "output_type": "execute_result"
    }
   ],
   "source": [
    "train_data.describe()"
   ]
  },
  {
   "cell_type": "markdown",
   "metadata": {
    "papermill": {
     "duration": 0.026968,
     "end_time": "2021-02-23T20:23:35.922995",
     "exception": false,
     "start_time": "2021-02-23T20:23:35.896027",
     "status": "completed"
    },
    "tags": []
   },
   "source": [
    "### Discover and Visualize Data"
   ]
  },
  {
   "cell_type": "markdown",
   "metadata": {
    "papermill": {
     "duration": 0.027265,
     "end_time": "2021-02-23T20:23:35.976600",
     "exception": false,
     "start_time": "2021-02-23T20:23:35.949335",
     "status": "completed"
    },
    "tags": []
   },
   "source": [
    "> In order to get some insight from data we need to take a look at them"
   ]
  },
  {
   "cell_type": "code",
   "execution_count": 7,
   "metadata": {
    "execution": {
     "iopub.execute_input": "2021-02-23T20:23:36.033145Z",
     "iopub.status.busy": "2021-02-23T20:23:36.032518Z",
     "iopub.status.idle": "2021-02-23T20:23:36.977467Z",
     "shell.execute_reply": "2021-02-23T20:23:36.976826Z"
    },
    "papermill": {
     "duration": 0.974253,
     "end_time": "2021-02-23T20:23:36.977632",
     "exception": false,
     "start_time": "2021-02-23T20:23:36.003379",
     "status": "completed"
    },
    "tags": []
   },
   "outputs": [
    {
     "data": {
      "image/png": "[encoded data removed]",
      "text/plain": [
       "<Figure size 1440x1080 with 4 Axes>"
      ]
     },
     "metadata": {
      "needs_background": "light"
     },
     "output_type": "display_data"
    }
   ],
   "source": [
    "%matplotlib inline \n",
    "\n",
    "import matplotlib.pyplot as plt\n",
    "\n",
    "train_data.drop('id', axis=1).hist(bins=50, figsize=(20, 15))\n",
    "plt.show()"
   ]
  },
  {
   "cell_type": "code",
   "execution_count": 8,
   "metadata": {
    "execution": {
     "iopub.execute_input": "2021-02-23T20:23:37.041175Z",
     "iopub.status.busy": "2021-02-23T20:23:37.040581Z",
     "iopub.status.idle": "2021-02-23T20:23:37.436118Z",
     "shell.execute_reply": "2021-02-23T20:23:37.435602Z"
    },
    "papermill": {
     "duration": 0.430274,
     "end_time": "2021-02-23T20:23:37.436259",
     "exception": false,
     "start_time": "2021-02-23T20:23:37.005985",
     "status": "completed"
    },
    "tags": []
   },
   "outputs": [
    {
     "data": {
      "text/plain": [
       "<AxesSubplot:xlabel='budget', ylabel='popularity'>"
      ]
     },
     "execution_count": 8,
     "metadata": {},
     "output_type": "execute_result"
    },
    {
     "data": {
      "image/png": "[encoded data removed]",
      "text/plain": [
       "<Figure size 720x504 with 2 Axes>"
      ]
     },
     "metadata": {
      "needs_background": "light"
     },
     "output_type": "display_data"
    }
   ],
   "source": [
    "train_data.drop('id', axis=1).plot(kind='scatter', x='budget', y='popularity', alpha=0.4,\n",
    "                                  s=train_data['runtime'], label='runtime', figsize=(10, 7),\n",
    "                                  c='revenue', cmap=plt.get_cmap('jet'), colorbar=True)"
   ]
  },
  {
   "cell_type": "markdown",
   "metadata": {
    "papermill": {
     "duration": 0.029366,
     "end_time": "2021-02-23T20:23:37.495723",
     "exception": false,
     "start_time": "2021-02-23T20:23:37.466357",
     "status": "completed"
    },
    "tags": []
   },
   "source": [
    "> Popularity and budget seem to important in correlation to the revenue"
   ]
  },
  {
   "cell_type": "code",
   "execution_count": 9,
   "metadata": {
    "execution": {
     "iopub.execute_input": "2021-02-23T20:23:37.561860Z",
     "iopub.status.busy": "2021-02-23T20:23:37.561243Z",
     "iopub.status.idle": "2021-02-23T20:23:37.567915Z",
     "shell.execute_reply": "2021-02-23T20:23:37.567444Z"
    },
    "papermill": {
     "duration": 0.042777,
     "end_time": "2021-02-23T20:23:37.568055",
     "exception": false,
     "start_time": "2021-02-23T20:23:37.525278",
     "status": "completed"
    },
    "tags": []
   },
   "outputs": [
    {
     "data": {
      "text/plain": [
       "revenue       1.000000\n",
       "budget        0.752965\n",
       "popularity    0.461460\n",
       "runtime       0.216380\n",
       "id            0.000610\n",
       "Name: revenue, dtype: float64"
      ]
     },
     "execution_count": 9,
     "metadata": {},
     "output_type": "execute_result"
    }
   ],
   "source": [
    "corr_matrix = train_data.corr()\n",
    "corr_matrix['revenue'].sort_values(ascending=False)"
   ]
  },
  {
   "cell_type": "markdown",
   "metadata": {
    "papermill": {
     "duration": 0.029374,
     "end_time": "2021-02-23T20:23:37.627273",
     "exception": false,
     "start_time": "2021-02-23T20:23:37.597899",
     "status": "completed"
    },
    "tags": []
   },
   "source": [
    "### Feature Engineering"
   ]
  },
  {
   "cell_type": "markdown",
   "metadata": {
    "papermill": {
     "duration": 0.030659,
     "end_time": "2021-02-23T20:23:37.687973",
     "exception": false,
     "start_time": "2021-02-23T20:23:37.657314",
     "status": "completed"
    },
    "tags": []
   },
   "source": [
    "> The numerical data available in the dataset are very limited, but using feature engineering it is possible to create new data for the ML-model to train with"
   ]
  },
  {
   "cell_type": "code",
   "execution_count": 10,
   "metadata": {
    "execution": {
     "iopub.execute_input": "2021-02-23T20:23:37.757501Z",
     "iopub.status.busy": "2021-02-23T20:23:37.756915Z",
     "iopub.status.idle": "2021-02-23T20:23:38.750289Z",
     "shell.execute_reply": "2021-02-23T20:23:38.750749Z"
    },
    "papermill": {
     "duration": 1.030919,
     "end_time": "2021-02-23T20:23:38.750942",
     "exception": false,
     "start_time": "2021-02-23T20:23:37.720023",
     "status": "completed"
    },
    "tags": []
   },
   "outputs": [],
   "source": [
    "from ast import literal_eval\n",
    "from sklearn.base import BaseEstimator, TransformerMixin\n",
    "\n",
    "class TextToDictTransformer(BaseEstimator, TransformerMixin):\n",
    "    def __init__(self, features):\n",
    "        self.features = features\n",
    "    \n",
    "    def fit(self, X, y=None):\n",
    "        return self\n",
    "    \n",
    "    def transform(self, X):\n",
    "        for column in self.features:\n",
    "            X[column] = X[column].apply(lambda x: {} if pd.isna(x) else literal_eval(x))\n",
    "        return X"
   ]
  },
  {
   "cell_type": "code",
   "execution_count": 11,
   "metadata": {
    "execution": {
     "iopub.execute_input": "2021-02-23T20:23:38.814404Z",
     "iopub.status.busy": "2021-02-23T20:23:38.813837Z",
     "iopub.status.idle": "2021-02-23T20:23:38.820984Z",
     "shell.execute_reply": "2021-02-23T20:23:38.820321Z"
    },
    "papermill": {
     "duration": 0.039942,
     "end_time": "2021-02-23T20:23:38.821126",
     "exception": false,
     "start_time": "2021-02-23T20:23:38.781184",
     "status": "completed"
    },
    "tags": []
   },
   "outputs": [],
   "source": [
    "from sklearn.base import BaseEstimator, TransformerMixin\n",
    "\n",
    "class BooleanTransformer(BaseEstimator, TransformerMixin):\n",
    "    '''\n",
    "    Transform binary values to boolean\n",
    "    '''\n",
    "    def __init__(self, features):\n",
    "        self.features = features\n",
    "    \n",
    "    def fit(self, X, y=None):\n",
    "        return self\n",
    "    \n",
    "    def transform(self, X):\n",
    "        try:\n",
    "            for column in self.features:\n",
    "                X[column] = X[column].apply(lambda x: 1 if x != {} and pd.isna(x) == False else 0)\n",
    "        except Exception as ex:\n",
    "            print(\"Boolean transformer error:\", ex)\n",
    "        return X"
   ]
  },
  {
   "cell_type": "code",
   "execution_count": 12,
   "metadata": {
    "execution": {
     "iopub.execute_input": "2021-02-23T20:23:38.885906Z",
     "iopub.status.busy": "2021-02-23T20:23:38.885206Z",
     "iopub.status.idle": "2021-02-23T20:23:38.891609Z",
     "shell.execute_reply": "2021-02-23T20:23:38.892035Z"
    },
    "papermill": {
     "duration": 0.040322,
     "end_time": "2021-02-23T20:23:38.892211",
     "exception": false,
     "start_time": "2021-02-23T20:23:38.851889",
     "status": "completed"
    },
    "tags": []
   },
   "outputs": [],
   "source": [
    "from sklearn.base import BaseEstimator, TransformerMixin\n",
    "\n",
    "class OneHotTransformer(BaseEstimator, TransformerMixin):\n",
    "    '''\n",
    "    One hot objects using the name attribute of the dict\n",
    "    '''\n",
    "    def __init__(self, features, top_values):\n",
    "        self.features = features\n",
    "        self.top_values = top_values\n",
    "    \n",
    "    def fit(self, X, y=None):\n",
    "        return self\n",
    "    \n",
    "    def transform(self, X):\n",
    "        try:\n",
    "            i = 0\n",
    "            for feature in self.features:\n",
    "                for name in self.top_values[i]:\n",
    "                    X[f'{feature}_{name}'] = X[feature].apply(lambda x: 1 if name in str(x) else 0)\n",
    "                i += 1\n",
    "                    \n",
    "            X = X.drop(self.features, axis=1)\n",
    "        except Exception as ex:\n",
    "            print(\"One hot tansformer error:\", ex)\n",
    "        return X"
   ]
  },
  {
   "cell_type": "code",
   "execution_count": 13,
   "metadata": {
    "execution": {
     "iopub.execute_input": "2021-02-23T20:23:38.957340Z",
     "iopub.status.busy": "2021-02-23T20:23:38.956390Z",
     "iopub.status.idle": "2021-02-23T20:23:38.967295Z",
     "shell.execute_reply": "2021-02-23T20:23:38.967752Z"
    },
    "papermill": {
     "duration": 0.045457,
     "end_time": "2021-02-23T20:23:38.967942",
     "exception": false,
     "start_time": "2021-02-23T20:23:38.922485",
     "status": "completed"
    },
    "tags": []
   },
   "outputs": [],
   "source": [
    "from collections import Counter\n",
    "from sklearn.base import BaseEstimator, TransformerMixin\n",
    "    \n",
    "\n",
    "class CastTransformer(BaseEstimator, TransformerMixin):\n",
    "    '''\n",
    "    Create columns for most common names and characters and also the size of the whole cast\n",
    "    as well as the size divided to different genders\n",
    "    '''\n",
    "    def __init__(self, top_cast_names, top_cast_chars):\n",
    "        self.top_cast_names = top_cast_names\n",
    "        self.top_cast_chars = top_cast_chars\n",
    "        \n",
    "    def fit(self, X, y=None):\n",
    "        return self\n",
    "    \n",
    "    def transform(self, X):\n",
    "        try:\n",
    "            X['cast_len'] = X['cast'].apply(lambda x: len(x) if x != {} else 0)\n",
    "            \n",
    "            for name in self.top_cast_names:\n",
    "                X[f'cast_name_{name}'] = X['cast'].apply(lambda x: 1 if name in str(x) else 0)\n",
    "                \n",
    "            for name in self.top_cast_chars:\n",
    "                X[f'cast_char_{name}'] = X['cast'].apply(lambda x: 1 if name in str(x) else 0)\n",
    "            \n",
    "            X['cast_gender_undef'] = X['cast'].apply(lambda x: sum([1 for i in x if i['gender'] == 0]))\n",
    "            X['cast_gender_male'] = X['cast'].apply(lambda x: sum([1 for i in x if i['gender'] == 1]))\n",
    "            X['cast_gender_female'] = X['cast'].apply(lambda x: sum([1 for i in x if i['gender'] == 2]))\n",
    "            \n",
    "            X = X.drop('cast', axis=1)\n",
    "        except Exception as ex:\n",
    "            print(\"Cast transformer error:\", ex)\n",
    "        return X"
   ]
  },
  {
   "cell_type": "code",
   "execution_count": 14,
   "metadata": {
    "execution": {
     "iopub.execute_input": "2021-02-23T20:23:39.039971Z",
     "iopub.status.busy": "2021-02-23T20:23:39.039324Z",
     "iopub.status.idle": "2021-02-23T20:23:39.041684Z",
     "shell.execute_reply": "2021-02-23T20:23:39.042122Z"
    },
    "papermill": {
     "duration": 0.044093,
     "end_time": "2021-02-23T20:23:39.042296",
     "exception": false,
     "start_time": "2021-02-23T20:23:38.998203",
     "status": "completed"
    },
    "tags": []
   },
   "outputs": [],
   "source": [
    "from collections import Counter\n",
    "from sklearn.base import BaseEstimator, TransformerMixin\n",
    "\n",
    "\n",
    "class CrewTransformer(BaseEstimator, TransformerMixin):\n",
    "    '''\n",
    "    Create columns for most common names, jobs and departments and also the size of the whole cast\n",
    "    as well as the size divided to different genders\n",
    "    '''\n",
    "    def __init__(self, top_crew_names, top_crew_jobs, top_crew_departments):\n",
    "        self.top_crew_names = top_crew_names\n",
    "        self.top_crew_jobs = top_crew_jobs\n",
    "        self.top_crew_departments = top_crew_departments\n",
    "    \n",
    "    def fit(self, X, y=None):\n",
    "        return self\n",
    "    \n",
    "    def transform(self, X):\n",
    "        try:\n",
    "            X['crew_len'] = X['crew'].apply(lambda x: len(x) if x != {} else 0)\n",
    "            \n",
    "            for name in self.top_crew_names:\n",
    "                X[f'crew_name_{name}'] = X['crew'].apply(lambda x: 1 if name in str(x) else 0)\n",
    "                \n",
    "            for name in self.top_crew_jobs:\n",
    "                X[f'crew_job_{name}'] = X['crew'].apply(lambda x: 1 if name in str(x) else 0)\n",
    "                \n",
    "            for name in self.top_crew_departments:\n",
    "                X[f'crew_department_{name}'] = X['crew'].apply(lambda x: 1 if name in str(x) else 0)\n",
    "            \n",
    "            X['crew_gender_undef'] = X['crew'].apply(lambda x: sum([1 for i in x if i['gender'] == 0]))\n",
    "            X['crew_gender_male'] = X['crew'].apply(lambda x: sum([1 for i in x if i['gender'] == 1]))\n",
    "            X['crew_gender_female'] = X['crew'].apply(lambda x: sum([1 for i in x if i['gender'] == 2]))\n",
    "            \n",
    "            X = X.drop('crew', axis=1)\n",
    "        except Exception as ex:\n",
    "            print(\"Crew transformer error:\", ex)\n",
    "        return X"
   ]
  },
  {
   "cell_type": "code",
   "execution_count": 15,
   "metadata": {
    "execution": {
     "iopub.execute_input": "2021-02-23T20:23:39.111165Z",
     "iopub.status.busy": "2021-02-23T20:23:39.110191Z",
     "iopub.status.idle": "2021-02-23T20:23:39.113573Z",
     "shell.execute_reply": "2021-02-23T20:23:39.112958Z"
    },
    "papermill": {
     "duration": 0.041273,
     "end_time": "2021-02-23T20:23:39.113711",
     "exception": false,
     "start_time": "2021-02-23T20:23:39.072438",
     "status": "completed"
    },
    "tags": []
   },
   "outputs": [],
   "source": [
    "from sklearn.base import BaseEstimator, TransformerMixin\n",
    "\n",
    "class DateTransformer(BaseEstimator, TransformerMixin):        \n",
    "    '''\n",
    "    Breaks date to 3 different values for year, month and day\n",
    "    '''\n",
    "    def fit(self, X, y=None):\n",
    "        return self\n",
    "    \n",
    "    def transform(self, X):\n",
    "        try:            \n",
    "            X['year'] = pd.Series(pd.DatetimeIndex(X['release_date']).year)\n",
    "            X['month'] = pd.Series(pd.DatetimeIndex(X['release_date']).month)\n",
    "            X['day'] = pd.Series(pd.DatetimeIndex(X['release_date']).day)\n",
    "            X = X.drop('release_date', axis=1)\n",
    "        except Exception as ex:\n",
    "            print(\"Date transformer pipeline error:\", ex)\n",
    "        return X"
   ]
  },
  {
   "cell_type": "code",
   "execution_count": 16,
   "metadata": {
    "execution": {
     "iopub.execute_input": "2021-02-23T20:23:39.191683Z",
     "iopub.status.busy": "2021-02-23T20:23:39.190696Z",
     "iopub.status.idle": "2021-02-23T20:23:39.193720Z",
     "shell.execute_reply": "2021-02-23T20:23:39.193175Z"
    },
    "papermill": {
     "duration": 0.04965,
     "end_time": "2021-02-23T20:23:39.193856",
     "exception": false,
     "start_time": "2021-02-23T20:23:39.144206",
     "status": "completed"
    },
    "tags": []
   },
   "outputs": [],
   "source": [
    "from sklearn.base import BaseEstimator, TransformerMixin\n",
    "\n",
    "class FixRevenueTransformer(BaseEstimator, TransformerMixin):\n",
    "    '''\n",
    "    Fix some values that are problematic\n",
    "    '''\n",
    "    def fit(self, X, y=None):\n",
    "        return self\n",
    "    \n",
    "    def transform(self, X):\n",
    "        try:\n",
    "            X.loc[X['id'] == 16,'revenue'] = 192864          # Skinning\n",
    "            X.loc[X['id'] == 90,'budget'] = 30000000         # Sommersby          \n",
    "            X.loc[X['id'] == 118,'budget'] = 60000000        # Wild Hogs\n",
    "            X.loc[X['id'] == 149,'budget'] = 18000000        # Beethoven\n",
    "            X.loc[X['id'] == 313,'revenue'] = 12000000       # The Cookout \n",
    "            X.loc[X['id'] == 451,'revenue'] = 12000000       # Chasing Liberty\n",
    "            X.loc[X['id'] == 464,'budget'] = 20000000        # Parenthood\n",
    "            X.loc[X['id'] == 470,'budget'] = 13000000        # The Karate Kid, Part II\n",
    "            X.loc[X['id'] == 513,'budget'] = 930000          # From Prada to Nada\n",
    "            X.loc[X['id'] == 797,'budget'] = 8000000         # Welcome to Dongmakgol\n",
    "            X.loc[X['id'] == 819,'budget'] = 90000000        # Alvin and the Chipmunks: The Road Chip\n",
    "            X.loc[X['id'] == 850,'budget'] = 90000000        # Modern Times\n",
    "            X.loc[X['id'] == 1112,'budget'] = 7500000        # An Officer and a Gentleman\n",
    "            X.loc[X['id'] == 1131,'budget'] = 4300000        # Smokey and the Bandit   \n",
    "            X.loc[X['id'] == 1359,'budget'] = 10000000       # Stir Crazy \n",
    "            X.loc[X['id'] == 1542,'budget'] = 1              # All at Once\n",
    "            X.loc[X['id'] == 1570,'budget'] = 15800000       # Crocodile Dundee II\n",
    "            X.loc[X['id'] == 1571,'budget'] = 4000000        # Lady and the Tramp\n",
    "            X.loc[X['id'] == 1714,'budget'] = 46000000       # The Recruit\n",
    "            X.loc[X['id'] == 1721,'budget'] = 17500000       # Cocoon\n",
    "            X.loc[X['id'] == 1865,'revenue'] = 25000000      # Scooby-Doo 2: Monsters Unleashed\n",
    "            X.loc[X['id'] == 2268,'budget'] = 17500000       # Madea Goes to Jail budget\n",
    "            X.loc[X['id'] == 2491,'revenue'] = 6800000       # Never Talk to Strangers\n",
    "            X.loc[X['id'] == 2602,'budget'] = 31000000       # Mr. Holland's Opus\n",
    "            X.loc[X['id'] == 2612,'budget'] = 15000000       # Field of Dreams\n",
    "            X.loc[X['id'] == 2696,'budget'] = 10000000       # Nurse 3-D\n",
    "            X.loc[X['id'] == 2801,'budget'] = 10000000       # Fracture\n",
    "            X.loc[X['id'] == 3889,'budget'] = 15000000       # Colossal\n",
    "            X.loc[X['id'] == 6733,'budget'] = 5000000        # The Big Sick\n",
    "            X.loc[X['id'] == 3197,'budget'] = 8000000        # High-Rise\n",
    "            X.loc[X['id'] == 6683,'budget'] = 50000000       # The Pink Panther 2\n",
    "            X.loc[X['id'] == 5704,'budget'] = 4300000        # French Connection II\n",
    "            X.loc[X['id'] == 6109,'budget'] = 281756         # Dogtooth\n",
    "            X.loc[X['id'] == 7242,'budget'] = 10000000       # Addams Family Values\n",
    "            X.loc[X['id'] == 7021,'budget'] = 17540562       #  Two Is a Family\n",
    "            X.loc[X['id'] == 5591,'budget'] = 4000000        # The Orphanage\n",
    "            X.loc[X['id'] == 4282,'budget'] = 20000000       # Big Top Pee-wee\n",
    "\n",
    "            power_six = X.id[X.budget > 1000][X.revenue < 100]\n",
    "\n",
    "            for k in power_six :\n",
    "                X.loc[X['id'] == k,'revenue'] =  X.loc[X['id'] == k,'revenue'] * 1000000\n",
    "                \n",
    "            return X\n",
    "        \n",
    "        except Exception as ex:\n",
    "            print(\"Fix revenue transformer error:\", ex)"
   ]
  },
  {
   "cell_type": "code",
   "execution_count": 17,
   "metadata": {
    "execution": {
     "iopub.execute_input": "2021-02-23T20:23:39.261893Z",
     "iopub.status.busy": "2021-02-23T20:23:39.260770Z",
     "iopub.status.idle": "2021-02-23T20:23:39.264283Z",
     "shell.execute_reply": "2021-02-23T20:23:39.263783Z"
    },
    "papermill": {
     "duration": 0.040069,
     "end_time": "2021-02-23T20:23:39.264417",
     "exception": false,
     "start_time": "2021-02-23T20:23:39.224348",
     "status": "completed"
    },
    "tags": []
   },
   "outputs": [],
   "source": [
    "from collections import Counter\n",
    "from sklearn.base import BaseEstimator, TransformerMixin\n",
    "\n",
    "class DropFeaturesTransformer(BaseEstimator, TransformerMixin):\n",
    "    '''\n",
    "    Drop unwanted features\n",
    "    '''\n",
    "    def __init__(self, features):\n",
    "        self.features = features\n",
    "    \n",
    "    def fit(self, X, y=None):\n",
    "        return self\n",
    "    \n",
    "    def transform(self, X):\n",
    "        try:\n",
    "            return X.drop(self.features, axis=1)\n",
    "        except Exception as ex:\n",
    "            print(\"Drop features transformer error:\", ex)"
   ]
  },
  {
   "cell_type": "code",
   "execution_count": 18,
   "metadata": {
    "execution": {
     "iopub.execute_input": "2021-02-23T20:23:39.333276Z",
     "iopub.status.busy": "2021-02-23T20:23:39.332586Z",
     "iopub.status.idle": "2021-02-23T20:23:39.421489Z",
     "shell.execute_reply": "2021-02-23T20:23:39.420852Z"
    },
    "papermill": {
     "duration": 0.1263,
     "end_time": "2021-02-23T20:23:39.421663",
     "exception": false,
     "start_time": "2021-02-23T20:23:39.295363",
     "status": "completed"
    },
    "tags": []
   },
   "outputs": [],
   "source": [
    "from sklearn.preprocessing import MinMaxScaler\n",
    "from sklearn.model_selection import train_test_split\n",
    "from sklearn.base import BaseEstimator, TransformerMixin\n",
    "\n",
    "class TrainTestTransformer(BaseEstimator, TransformerMixin):        \n",
    "    def __init__(self, impute=False, normalize=False):\n",
    "        self.impute = impute\n",
    "        self.normalize = normalize\n",
    "        \n",
    "    def fit(self, X, y=None):\n",
    "        \n",
    "        if self.impute:\n",
    "            X = X.fillna(X.median())\n",
    "    \n",
    "        self.X = X.drop('revenue', axis=1)    \n",
    "        self.y = X['revenue']\n",
    "        \n",
    "        if self.normalize:\n",
    "            self.X = MinMaxScaler().fit_transform(self.X)\n",
    "        \n",
    "        return self\n",
    "    \n",
    "    def transform(self, X):\n",
    "        return train_test_split(self.X, self.y, test_size=0.10)"
   ]
  },
  {
   "cell_type": "code",
   "execution_count": 19,
   "metadata": {
    "execution": {
     "iopub.execute_input": "2021-02-23T20:23:39.490174Z",
     "iopub.status.busy": "2021-02-23T20:23:39.489491Z",
     "iopub.status.idle": "2021-02-23T20:23:39.492387Z",
     "shell.execute_reply": "2021-02-23T20:23:39.491833Z"
    },
    "papermill": {
     "duration": 0.039852,
     "end_time": "2021-02-23T20:23:39.492553",
     "exception": false,
     "start_time": "2021-02-23T20:23:39.452701",
     "status": "completed"
    },
    "tags": []
   },
   "outputs": [],
   "source": [
    "def top_values(X, column, attribute):\n",
    "    '''\n",
    "    Find the most common values for a column in the dataset\n",
    "    '''\n",
    "    try:\n",
    "        values = X[column].apply(lambda x: [i[attribute] for i in x] if x != {} else []).values\n",
    "        top_values = Counter([j for i in values for j in i]).most_common(30)\n",
    "        top_values = [i[0] for i in top_values]\n",
    "        return top_values\n",
    "    except Exception as ex:\n",
    "        print(ex)"
   ]
  },
  {
   "cell_type": "markdown",
   "metadata": {
    "papermill": {
     "duration": 0.031692,
     "end_time": "2021-02-23T20:23:39.555605",
     "exception": false,
     "start_time": "2021-02-23T20:23:39.523913",
     "status": "completed"
    },
    "tags": []
   },
   "source": [
    "### Prepare Data for Machine Learning algorithms"
   ]
  },
  {
   "cell_type": "markdown",
   "metadata": {
    "papermill": {
     "duration": 0.030281,
     "end_time": "2021-02-23T20:23:39.616786",
     "exception": false,
     "start_time": "2021-02-23T20:23:39.586505",
     "status": "completed"
    },
    "tags": []
   },
   "source": [
    "> Creating pipelines will allow us to handle data easily and make model testing and selection easier"
   ]
  },
  {
   "cell_type": "code",
   "execution_count": 20,
   "metadata": {
    "execution": {
     "iopub.execute_input": "2021-02-23T20:23:39.687344Z",
     "iopub.status.busy": "2021-02-23T20:23:39.686376Z",
     "iopub.status.idle": "2021-02-23T20:24:04.779437Z",
     "shell.execute_reply": "2021-02-23T20:24:04.778935Z"
    },
    "papermill": {
     "duration": 25.132087,
     "end_time": "2021-02-23T20:24:04.779605",
     "exception": false,
     "start_time": "2021-02-23T20:23:39.647518",
     "status": "completed"
    },
    "tags": []
   },
   "outputs": [],
   "source": [
    "from sklearn.pipeline import Pipeline\n",
    "from sklearn.model_selection import train_test_split\n",
    "\n",
    "\n",
    "text_to_dict = ['belongs_to_collection', 'genres', 'production_companies',\n",
    "                'production_countries', 'spoken_languages', 'Keywords', 'cast', 'crew']\n",
    "\n",
    "boolean_features = ['homepage', 'belongs_to_collection']\n",
    "\n",
    "one_hot_objects = ['genres', 'production_countries', 'spoken_languages', 'production_companies']\n",
    "\n",
    "drop_features = ['id',\n",
    "                'original_language',\n",
    "                'Keywords',\n",
    "                'imdb_id',\n",
    "                'status',\n",
    "                'poster_path', \n",
    "                'original_title',\n",
    "                'overview',\n",
    "                'tagline',\n",
    "                'title'\n",
    "                ]\n",
    "\n",
    "\n",
    "engineered_data = TextToDictTransformer(text_to_dict).transform(train_data.copy())\n",
    "\n",
    "one_hot_top_values = [top_values(engineered_data, i, 'name')  for i in one_hot_objects]\n",
    "\n",
    "feature_engineering_pipeline = Pipeline([\n",
    "    ('boolean_transformer', BooleanTransformer(boolean_features)), \n",
    "    ('one_hot_transformer', OneHotTransformer(one_hot_objects, one_hot_top_values)),\n",
    "    ('date_transformer', DateTransformer()),\n",
    "    ('cast_transformer', CastTransformer(top_values(engineered_data, 'cast', 'name'),\n",
    "                                         top_values(engineered_data, 'cast', 'character'))),\n",
    "    ('crew_transformer', CrewTransformer(top_values(engineered_data, 'crew', 'name'),\n",
    "                                         top_values(engineered_data, 'crew', 'job'),\n",
    "                                         top_values(engineered_data, 'crew', 'department'))),\n",
    "    ('fix_revenue_transformer', FixRevenueTransformer()),\n",
    "    ('drop_features_transformers', DropFeaturesTransformer(drop_features)),\n",
    "])\n",
    "\n",
    "engineered_data = feature_engineering_pipeline.fit_transform(engineered_data)\n",
    "X_train, X_valid, y_train, y_valid = TrainTestTransformer(impute=True, normalize=False).fit_transform(engineered_data)"
   ]
  },
  {
   "cell_type": "code",
   "execution_count": 21,
   "metadata": {
    "execution": {
     "iopub.execute_input": "2021-02-23T20:24:04.847186Z",
     "iopub.status.busy": "2021-02-23T20:24:04.846484Z",
     "iopub.status.idle": "2021-02-23T20:24:04.851075Z",
     "shell.execute_reply": "2021-02-23T20:24:04.850601Z"
    },
    "papermill": {
     "duration": 0.040538,
     "end_time": "2021-02-23T20:24:04.851209",
     "exception": false,
     "start_time": "2021-02-23T20:24:04.810671",
     "status": "completed"
    },
    "tags": []
   },
   "outputs": [
    {
     "name": "stdout",
     "output_type": "stream",
     "text": [
      "X_train (2700, 258)\n",
      "y_train (2700,)\n",
      "X_test (300, 258)\n",
      "y_train (300,)\n"
     ]
    }
   ],
   "source": [
    "print('X_train', X_train.shape)\n",
    "print('y_train', y_train.shape)\n",
    "print('X_test', X_valid.shape)\n",
    "print('y_train', y_valid.shape)"
   ]
  },
  {
   "cell_type": "markdown",
   "metadata": {
    "papermill": {
     "duration": 0.031352,
     "end_time": "2021-02-23T20:24:04.914241",
     "exception": false,
     "start_time": "2021-02-23T20:24:04.882889",
     "status": "completed"
    },
    "tags": []
   },
   "source": [
    "### Select and Train a Model"
   ]
  },
  {
   "cell_type": "markdown",
   "metadata": {
    "papermill": {
     "duration": 0.030898,
     "end_time": "2021-02-23T20:24:04.976527",
     "exception": false,
     "start_time": "2021-02-23T20:24:04.945629",
     "status": "completed"
    },
    "tags": []
   },
   "source": [
    "> Now that the pipeline is ready and the data are prepared, it is time to train our regression models and select the best on predicting movie revenues"
   ]
  },
  {
   "cell_type": "markdown",
   "metadata": {
    "papermill": {
     "duration": 0.031314,
     "end_time": "2021-02-23T20:24:05.039928",
     "exception": false,
     "start_time": "2021-02-23T20:24:05.008614",
     "status": "completed"
    },
    "tags": []
   },
   "source": [
    "**Linear regression model**"
   ]
  },
  {
   "cell_type": "code",
   "execution_count": 22,
   "metadata": {
    "execution": {
     "iopub.execute_input": "2021-02-23T20:24:05.109871Z",
     "iopub.status.busy": "2021-02-23T20:24:05.108924Z",
     "iopub.status.idle": "2021-02-23T20:24:05.112177Z",
     "shell.execute_reply": "2021-02-23T20:24:05.111719Z"
    },
    "papermill": {
     "duration": 0.040042,
     "end_time": "2021-02-23T20:24:05.112321",
     "exception": false,
     "start_time": "2021-02-23T20:24:05.072279",
     "status": "completed"
    },
    "tags": []
   },
   "outputs": [],
   "source": [
    "sample_data = X_valid[:]\n",
    "sample_labels = np.log1p(y_valid[:])\n",
    "\n",
    "\n",
    "num_models = 5\n",
    "lin_reg_models = []\n",
    "tree_reg_models = []\n",
    "forest_reg_models = []"
   ]
  },
  {
   "cell_type": "code",
   "execution_count": 23,
   "metadata": {
    "execution": {
     "iopub.execute_input": "2021-02-23T20:24:05.181527Z",
     "iopub.status.busy": "2021-02-23T20:24:05.180762Z",
     "iopub.status.idle": "2021-02-23T20:24:05.798053Z",
     "shell.execute_reply": "2021-02-23T20:24:05.798865Z"
    },
    "papermill": {
     "duration": 0.65515,
     "end_time": "2021-02-23T20:24:05.799125",
     "exception": false,
     "start_time": "2021-02-23T20:24:05.143975",
     "status": "completed"
    },
    "tags": []
   },
   "outputs": [],
   "source": [
    "from sklearn.linear_model import LinearRegression\n",
    "from sklearn.metrics import mean_squared_error\n",
    "\n",
    "for i in range(num_models):\n",
    "    lin_reg = LinearRegression()\n",
    "    lin_reg.fit(X_train, np.log1p(y_train))\n",
    "\n",
    "    preds = lin_reg.predict(sample_data)\n",
    "    lin_mse = mean_squared_error(sample_labels, preds)\n",
    "    lin_rmse = np.sqrt(lin_mse)\n",
    "    \n",
    "    lin_reg_models.append((lin_reg, lin_rmse))"
   ]
  },
  {
   "cell_type": "markdown",
   "metadata": {
    "papermill": {
     "duration": 0.055845,
     "end_time": "2021-02-23T20:24:05.916433",
     "exception": false,
     "start_time": "2021-02-23T20:24:05.860588",
     "status": "completed"
    },
    "tags": []
   },
   "source": [
    "**Decision Tree model**"
   ]
  },
  {
   "cell_type": "code",
   "execution_count": 24,
   "metadata": {
    "execution": {
     "iopub.execute_input": "2021-02-23T20:24:05.987239Z",
     "iopub.status.busy": "2021-02-23T20:24:05.986485Z",
     "iopub.status.idle": "2021-02-23T20:24:06.667697Z",
     "shell.execute_reply": "2021-02-23T20:24:06.667198Z"
    },
    "papermill": {
     "duration": 0.719122,
     "end_time": "2021-02-23T20:24:06.667845",
     "exception": false,
     "start_time": "2021-02-23T20:24:05.948723",
     "status": "completed"
    },
    "tags": []
   },
   "outputs": [],
   "source": [
    "from sklearn.tree import DecisionTreeRegressor\n",
    "from sklearn.metrics import mean_squared_error\n",
    "\n",
    "for i in range(num_models):\n",
    "    tree_reg = DecisionTreeRegressor()\n",
    "    tree_reg.fit(X_train, np.log1p(y_train))\n",
    "    \n",
    "    preds = tree_reg.predict(sample_data)\n",
    "    tree_mse = mean_squared_error(sample_labels, preds)\n",
    "    tree_rmse = np.sqrt(tree_mse)\n",
    "    \n",
    "    tree_reg_models.append((tree_reg, tree_rmse))"
   ]
  },
  {
   "cell_type": "markdown",
   "metadata": {
    "papermill": {
     "duration": 0.031835,
     "end_time": "2021-02-23T20:24:06.731002",
     "exception": false,
     "start_time": "2021-02-23T20:24:06.699167",
     "status": "completed"
    },
    "tags": []
   },
   "source": [
    "**Random Forest Regressor**"
   ]
  },
  {
   "cell_type": "code",
   "execution_count": 25,
   "metadata": {
    "execution": {
     "iopub.execute_input": "2021-02-23T20:24:06.800115Z",
     "iopub.status.busy": "2021-02-23T20:24:06.799510Z",
     "iopub.status.idle": "2021-02-23T20:24:40.180755Z",
     "shell.execute_reply": "2021-02-23T20:24:40.181268Z"
    },
    "papermill": {
     "duration": 33.41901,
     "end_time": "2021-02-23T20:24:40.181463",
     "exception": false,
     "start_time": "2021-02-23T20:24:06.762453",
     "status": "completed"
    },
    "tags": []
   },
   "outputs": [],
   "source": [
    "from sklearn.ensemble import RandomForestRegressor\n",
    "from sklearn.metrics import mean_squared_error\n",
    "\n",
    "for i in range(num_models):\n",
    "    forest_reg = RandomForestRegressor(n_estimators=100)\n",
    "    forest_reg.fit(X_train, np.log1p(y_train))\n",
    "\n",
    "    preds = forest_reg.predict(sample_data)\n",
    "    forest_mse = mean_squared_error(sample_labels, preds)\n",
    "    forest_rmse = np.sqrt(forest_mse)\n",
    "    \n",
    "    forest_reg_models.append((forest_reg, forest_rmse))"
   ]
  },
  {
   "cell_type": "code",
   "execution_count": 26,
   "metadata": {
    "execution": {
     "iopub.execute_input": "2021-02-23T20:24:40.248667Z",
     "iopub.status.busy": "2021-02-23T20:24:40.248054Z",
     "iopub.status.idle": "2021-02-23T20:24:40.259567Z",
     "shell.execute_reply": "2021-02-23T20:24:40.259097Z"
    },
    "papermill": {
     "duration": 0.045818,
     "end_time": "2021-02-23T20:24:40.259707",
     "exception": false,
     "start_time": "2021-02-23T20:24:40.213889",
     "status": "completed"
    },
    "tags": []
   },
   "outputs": [
    {
     "data": {
      "text/html": [
       "<div>\n",
       "<style scoped>\n",
       "    .dataframe tbody tr th:only-of-type {\n",
       "        vertical-align: middle;\n",
       "    }\n",
       "\n",
       "    .dataframe tbody tr th {\n",
       "        vertical-align: top;\n",
       "    }\n",
       "\n",
       "    .dataframe thead th {\n",
       "        text-align: right;\n",
       "    }\n",
       "</style>\n",
       "<table border=\"1\" class=\"dataframe\">\n",
       "  <thead>\n",
       "    <tr style=\"text-align: right;\">\n",
       "      <th></th>\n",
       "      <th>Linear</th>\n",
       "      <th>Tree</th>\n",
       "      <th>Forest</th>\n",
       "    </tr>\n",
       "  </thead>\n",
       "  <tbody>\n",
       "    <tr>\n",
       "      <th>0</th>\n",
       "      <td>2.186001</td>\n",
       "      <td>2.688083</td>\n",
       "      <td>1.751993</td>\n",
       "    </tr>\n",
       "    <tr>\n",
       "      <th>1</th>\n",
       "      <td>2.186001</td>\n",
       "      <td>2.636993</td>\n",
       "      <td>1.782048</td>\n",
       "    </tr>\n",
       "    <tr>\n",
       "      <th>2</th>\n",
       "      <td>2.186001</td>\n",
       "      <td>2.591556</td>\n",
       "      <td>1.792629</td>\n",
       "    </tr>\n",
       "    <tr>\n",
       "      <th>3</th>\n",
       "      <td>2.186001</td>\n",
       "      <td>2.541546</td>\n",
       "      <td>1.753263</td>\n",
       "    </tr>\n",
       "    <tr>\n",
       "      <th>4</th>\n",
       "      <td>2.186001</td>\n",
       "      <td>2.558452</td>\n",
       "      <td>1.767612</td>\n",
       "    </tr>\n",
       "  </tbody>\n",
       "</table>\n",
       "</div>"
      ],
      "text/plain": [
       "     Linear      Tree    Forest\n",
       "0  2.186001  2.688083  1.751993\n",
       "1  2.186001  2.636993  1.782048\n",
       "2  2.186001  2.591556  1.792629\n",
       "3  2.186001  2.541546  1.753263\n",
       "4  2.186001  2.558452  1.767612"
      ]
     },
     "execution_count": 26,
     "metadata": {},
     "output_type": "execute_result"
    }
   ],
   "source": [
    "res = pd.DataFrame({'Linear': [i[1] for i in lin_reg_models], 'Tree': [i[1] for i in tree_reg_models], 'Forest': [i[1] for i in forest_reg_models]})\n",
    "res"
   ]
  },
  {
   "cell_type": "markdown",
   "metadata": {
    "papermill": {
     "duration": 0.031795,
     "end_time": "2021-02-23T20:24:40.323774",
     "exception": false,
     "start_time": "2021-02-23T20:24:40.291979",
     "status": "completed"
    },
    "tags": []
   },
   "source": [
    "### The best model is \"Random Forest\""
   ]
  },
  {
   "cell_type": "markdown",
   "metadata": {
    "papermill": {
     "duration": 0.031727,
     "end_time": "2021-02-23T20:24:40.387598",
     "exception": false,
     "start_time": "2021-02-23T20:24:40.355871",
     "status": "completed"
    },
    "tags": []
   },
   "source": [
    "> The best model is produced using random forest, now lets use grid search to look check different hyperparameters so we can get even better results"
   ]
  },
  {
   "cell_type": "code",
   "execution_count": 27,
   "metadata": {
    "execution": {
     "iopub.execute_input": "2021-02-23T20:24:40.454809Z",
     "iopub.status.busy": "2021-02-23T20:24:40.454200Z",
     "iopub.status.idle": "2021-02-23T20:24:40.614434Z",
     "shell.execute_reply": "2021-02-23T20:24:40.613930Z"
    },
    "papermill": {
     "duration": 0.195004,
     "end_time": "2021-02-23T20:24:40.614620",
     "exception": false,
     "start_time": "2021-02-23T20:24:40.419616",
     "status": "completed"
    },
    "tags": []
   },
   "outputs": [],
   "source": [
    "import seaborn as sns\n",
    "\n",
    "def plot_feature_importance(feature_columns, importance_values):\n",
    "    feature_imp = [col for col in zip(feature_columns, importance_values)]\n",
    "    feature_imp.sort(key=lambda x:x[1], reverse=True)\n",
    "\n",
    "    imp = pd.DataFrame(feature_imp[0:20], columns=['feature', 'importance'])\n",
    "    plt.figure(figsize=(10, 8))\n",
    "    sns.barplot(y='feature', x='importance', data=imp)\n",
    "    plt.title('20 Most Important Features', fontsize=16)\n",
    "    plt.ylabel(\"Feature\", fontsize=16)\n",
    "    plt.xlabel(\"\")\n",
    "    plt.show()\n",
    "    return imp"
   ]
  },
  {
   "cell_type": "code",
   "execution_count": 28,
   "metadata": {
    "execution": {
     "iopub.execute_input": "2021-02-23T20:24:40.685675Z",
     "iopub.status.busy": "2021-02-23T20:24:40.684702Z",
     "iopub.status.idle": "2021-02-23T20:24:40.988053Z",
     "shell.execute_reply": "2021-02-23T20:24:40.987562Z"
    },
    "papermill": {
     "duration": 0.341209,
     "end_time": "2021-02-23T20:24:40.988197",
     "exception": false,
     "start_time": "2021-02-23T20:24:40.646988",
     "status": "completed"
    },
    "tags": []
   },
   "outputs": [
    {
     "data": {
      "image/png": "[encoded data removed]",
      "text/plain": [
       "<Figure size 720x576 with 1 Axes>"
      ]
     },
     "metadata": {
      "needs_background": "light"
     },
     "output_type": "display_data"
    }
   ],
   "source": [
    "# Get the best model\n",
    "best_forest_model, best_forest_model_rmse = sorted(forest_reg_models, key=lambda x: x[1])[0]\n",
    "model_importances = plot_feature_importance(X_train.columns, best_forest_model.feature_importances_)"
   ]
  },
  {
   "cell_type": "markdown",
   "metadata": {
    "papermill": {
     "duration": 0.033119,
     "end_time": "2021-02-23T20:24:41.055006",
     "exception": false,
     "start_time": "2021-02-23T20:24:41.021887",
     "status": "completed"
    },
    "tags": []
   },
   "source": [
    "**Grid Search**"
   ]
  },
  {
   "cell_type": "code",
   "execution_count": 29,
   "metadata": {
    "execution": {
     "iopub.execute_input": "2021-02-23T20:24:41.130963Z",
     "iopub.status.busy": "2021-02-23T20:24:41.130000Z",
     "iopub.status.idle": "2021-02-23T20:47:18.076604Z",
     "shell.execute_reply": "2021-02-23T20:47:18.077112Z"
    },
    "papermill": {
     "duration": 1356.989205,
     "end_time": "2021-02-23T20:47:18.077572",
     "exception": false,
     "start_time": "2021-02-23T20:24:41.088367",
     "status": "completed"
    },
    "tags": []
   },
   "outputs": [
    {
     "data": {
      "text/plain": [
       "GridSearchCV(cv=10, estimator=RandomForestRegressor(),\n",
       "             param_grid=[{'bootstrap': [False], 'max_features': [60, 80, 100],\n",
       "                          'n_estimators': [200, 250, 300]},\n",
       "                         {'max_features': [40, 50, 60],\n",
       "                          'n_estimators': [150, 180, 200],\n",
       "                          'oob_score': [True, False]}],\n",
       "             return_train_score=True, scoring='neg_mean_squared_error')"
      ]
     },
     "execution_count": 29,
     "metadata": {},
     "output_type": "execute_result"
    }
   ],
   "source": [
    "from sklearn.model_selection import GridSearchCV\n",
    "\n",
    "param_grid = [\n",
    "    {'bootstrap': [False], 'n_estimators': [200, 250, 300], 'max_features': [60, 80, 100]},\n",
    "    {'oob_score': [True, False], 'n_estimators': [150, 180, 200], 'max_features': [40, 50, 60]},\n",
    "]\n",
    "\n",
    "grid_search = GridSearchCV(RandomForestRegressor(), param_grid, cv=10, scoring='neg_mean_squared_error', return_train_score=True)\n",
    "grid_search.fit(X_train, np.log1p(y_train))"
   ]
  },
  {
   "cell_type": "code",
   "execution_count": 30,
   "metadata": {
    "execution": {
     "iopub.execute_input": "2021-02-23T20:47:18.152629Z",
     "iopub.status.busy": "2021-02-23T20:47:18.151616Z",
     "iopub.status.idle": "2021-02-23T20:47:18.155723Z",
     "shell.execute_reply": "2021-02-23T20:47:18.155262Z"
    },
    "papermill": {
     "duration": 0.043415,
     "end_time": "2021-02-23T20:47:18.155866",
     "exception": false,
     "start_time": "2021-02-23T20:47:18.112451",
     "status": "completed"
    },
    "tags": []
   },
   "outputs": [
    {
     "data": {
      "text/plain": [
       "RandomForestRegressor(bootstrap=False, max_features=100, n_estimators=200)"
      ]
     },
     "execution_count": 30,
     "metadata": {},
     "output_type": "execute_result"
    }
   ],
   "source": [
    "grid_search.best_estimator_"
   ]
  },
  {
   "cell_type": "code",
   "execution_count": 31,
   "metadata": {
    "execution": {
     "iopub.execute_input": "2021-02-23T20:47:18.228643Z",
     "iopub.status.busy": "2021-02-23T20:47:18.227720Z",
     "iopub.status.idle": "2021-02-23T20:47:18.279101Z",
     "shell.execute_reply": "2021-02-23T20:47:18.278493Z"
    },
    "papermill": {
     "duration": 0.089134,
     "end_time": "2021-02-23T20:47:18.279248",
     "exception": false,
     "start_time": "2021-02-23T20:47:18.190114",
     "status": "completed"
    },
    "tags": []
   },
   "outputs": [
    {
     "data": {
      "text/plain": [
       "1.7676117191851355"
      ]
     },
     "execution_count": 31,
     "metadata": {},
     "output_type": "execute_result"
    }
   ],
   "source": [
    "grid_search_model = grid_search.best_estimator_\n",
    "\n",
    "preds = grid_search_model.predict(sample_data)\n",
    "grid_mse = mean_squared_error(sample_labels, preds)\n",
    "grid_rmse = np.sqrt(forest_mse)\n",
    "grid_rmse"
   ]
  },
  {
   "cell_type": "code",
   "execution_count": 32,
   "metadata": {
    "execution": {
     "iopub.execute_input": "2021-02-23T20:47:18.353699Z",
     "iopub.status.busy": "2021-02-23T20:47:18.353035Z",
     "iopub.status.idle": "2021-02-23T20:47:18.667374Z",
     "shell.execute_reply": "2021-02-23T20:47:18.666821Z"
    },
    "papermill": {
     "duration": 0.353322,
     "end_time": "2021-02-23T20:47:18.667509",
     "exception": false,
     "start_time": "2021-02-23T20:47:18.314187",
     "status": "completed"
    },
    "tags": []
   },
   "outputs": [
    {
     "data": {
      "image/png": "[encoded data removed]",
      "text/plain": [
       "<Figure size 720x576 with 1 Axes>"
      ]
     },
     "metadata": {
      "needs_background": "light"
     },
     "output_type": "display_data"
    }
   ],
   "source": [
    "importances = plot_feature_importance(X_train.columns, grid_search_model.feature_importances_)"
   ]
  },
  {
   "cell_type": "markdown",
   "metadata": {
    "papermill": {
     "duration": 0.036512,
     "end_time": "2021-02-23T20:47:18.740863",
     "exception": false,
     "start_time": "2021-02-23T20:47:18.704351",
     "status": "completed"
    },
    "tags": []
   },
   "source": [
    "> Compare our best forest model with the results of grid search, and use the best model"
   ]
  },
  {
   "cell_type": "code",
   "execution_count": 33,
   "metadata": {
    "execution": {
     "iopub.execute_input": "2021-02-23T20:47:18.820828Z",
     "iopub.status.busy": "2021-02-23T20:47:18.819878Z",
     "iopub.status.idle": "2021-02-23T20:47:18.824515Z",
     "shell.execute_reply": "2021-02-23T20:47:18.823925Z"
    },
    "papermill": {
     "duration": 0.047119,
     "end_time": "2021-02-23T20:47:18.824699",
     "exception": false,
     "start_time": "2021-02-23T20:47:18.777580",
     "status": "completed"
    },
    "tags": []
   },
   "outputs": [
    {
     "name": "stdout",
     "output_type": "stream",
     "text": [
      "Random Forest model selected\n"
     ]
    }
   ],
   "source": [
    "print('Random Forest model selected' if best_forest_model_rmse < grid_rmse else 'Grid search model selected')\n",
    "model = best_forest_model if best_forest_model_rmse < grid_rmse else grid_search_model"
   ]
  },
  {
   "cell_type": "markdown",
   "metadata": {
    "papermill": {
     "duration": 0.036549,
     "end_time": "2021-02-23T20:47:18.898002",
     "exception": false,
     "start_time": "2021-02-23T20:47:18.861453",
     "status": "completed"
    },
    "tags": []
   },
   "source": [
    "*Note: The rmse is lower because we re-trained on the whole training set and that means we overfit the training data, which is not good. But this new training will come handy when making predictions on the test set*"
   ]
  },
  {
   "cell_type": "code",
   "execution_count": 34,
   "metadata": {
    "execution": {
     "iopub.execute_input": "2021-02-23T20:47:18.981700Z",
     "iopub.status.busy": "2021-02-23T20:47:18.981013Z",
     "iopub.status.idle": "2021-02-23T20:47:26.496481Z",
     "shell.execute_reply": "2021-02-23T20:47:26.496018Z"
    },
    "papermill": {
     "duration": 7.561148,
     "end_time": "2021-02-23T20:47:26.496659",
     "exception": false,
     "start_time": "2021-02-23T20:47:18.935511",
     "status": "completed"
    },
    "tags": []
   },
   "outputs": [
    {
     "data": {
      "text/plain": [
       "0.6815209967385003"
      ]
     },
     "execution_count": 34,
     "metadata": {},
     "output_type": "execute_result"
    }
   ],
   "source": [
    "X, y = X_train.append(X_valid), y_train.append(y_valid)\n",
    "\n",
    "model.fit(X, np.log1p(y))\n",
    "\n",
    "preds = model.predict(sample_data)\n",
    "model_mse = mean_squared_error(sample_labels, preds)\n",
    "model_rmse = np.sqrt(model_mse)\n",
    "model_rmse"
   ]
  }
 ],
 "metadata": {
  "kernelspec": {
   "display_name": "Python 3 (ipykernel)",
   "language": "python",
   "name": "python3"
  },
  "language_info": {
   "codemirror_mode": {
    "name": "ipython",
    "version": 3
   },
   "file_extension": ".py",
   "mimetype": "text/x-python",
   "name": "python",
   "nbconvert_exporter": "python",
   "pygments_lexer": "ipython3",
   "version": "3.9.12"
  },
  "papermill": {
   "default_parameters": {},
   "duration": 1479.515354,
   "end_time": "2021-02-23T20:48:07.322455",
   "environment_variables": {},
   "exception": null,
   "input_path": "__notebook__.ipynb",
   "output_path": "__notebook__.ipynb",
   "parameters": {},
   "start_time": "2021-02-23T20:23:27.807101",
   "version": "2.2.2"
  }
 },
 "nbformat": 4,
 "nbformat_minor": 4
}
